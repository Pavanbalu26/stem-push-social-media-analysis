{
 "cells": [
  {
   "cell_type": "code",
   "execution_count": 21,
   "id": "dc25a746-0eb0-4c61-9044-b36441f8be6d",
   "metadata": {},
   "outputs": [
    {
     "ename": "AttributeError",
     "evalue": "'WebElement' object has no attribute 'find_element_by_xpath'",
     "output_type": "error",
     "traceback": [
      "\u001b[0;31m---------------------------------------------------------------------------\u001b[0m",
      "\u001b[0;31mAttributeError\u001b[0m                            Traceback (most recent call last)",
      "Cell \u001b[0;32mIn[21], line 54\u001b[0m\n\u001b[1;32m     52\u001b[0m \u001b[38;5;28;01mfor\u001b[39;00m tweet \u001b[38;5;129;01min\u001b[39;00m tweets:\n\u001b[1;32m     53\u001b[0m     \u001b[38;5;28;01mtry\u001b[39;00m:\n\u001b[0;32m---> 54\u001b[0m         username \u001b[38;5;241m=\u001b[39m \u001b[43mtweet\u001b[49m\u001b[38;5;241;43m.\u001b[39;49m\u001b[43mfind_element_by_xpath\u001b[49m(\u001b[38;5;124m'\u001b[39m\u001b[38;5;124m//*[@id=\u001b[39m\u001b[38;5;124m\"\u001b[39m\u001b[38;5;124mid__zt4eoann9md\u001b[39m\u001b[38;5;124m\"\u001b[39m\u001b[38;5;124m]/div[1]/div/a/div/div[1]/span/span\u001b[39m\u001b[38;5;124m'\u001b[39m)\u001b[38;5;241m.\u001b[39mtext\n\u001b[1;32m     55\u001b[0m         \u001b[38;5;66;03m# text = tweet.text\u001b[39;00m\n\u001b[1;32m     56\u001b[0m         \u001b[38;5;66;03m# tweet_tuple = (username, text)\u001b[39;00m\n\u001b[1;32m     57\u001b[0m         \u001b[38;5;66;03m# data_bucket.append(tweet_tuple)\u001b[39;00m\n\u001b[1;32m     58\u001b[0m         counter \u001b[38;5;241m+\u001b[39m\u001b[38;5;241m=\u001b[39m \u001b[38;5;241m1\u001b[39m\n",
      "\u001b[0;31mAttributeError\u001b[0m: 'WebElement' object has no attribute 'find_element_by_xpath'"
     ]
    }
   ],
   "source": [
    "from selenium import webdriver\n",
    "from shutil import which\n",
    "from bs4 import BeautifulSoup\n",
    "from selenium.webdriver.common.keys import Keys\n",
    "from selenium.webdriver.chrome.options import Options\n",
    "from selenium.webdriver.chrome.service import Service\n",
    "from selenium.webdriver.common.by import By\n",
    "from selenium.webdriver.support.ui import WebDriverWait\n",
    "from selenium.webdriver.support import expected_conditions as EC\n",
    "from selenium.common.exceptions import StaleElementReferenceException\n",
    "from selenium.common.exceptions import NoSuchElementException\n",
    "import time  \n",
    "import pandas as pd\n",
    "\n",
    "#set path for chromedriver extension\n",
    "chrome_path = which('/usr/local/bin/chromedriver')\n",
    "\n",
    "service = Service(executable_path=chrome_path)\n",
    "driver = webdriver.Chrome(service=service)\n",
    "\n",
    "driver.get('https://twitter.com/explore')\n",
    "driver.implicitly_wait(60)\n",
    "\n",
    "notification_pop_up = driver.find_element(By.XPATH, '//*[@id=\"layers\"]/div[2]/div/div/div/div/div/div[2]/div[2]/div/div[2]/div/div[2]/div[2]/div[1]/div')\n",
    "notification_pop_up.click()\n",
    "\n",
    "search_input = driver.find_element(By.XPATH,'//*[@id=\"react-root\"]/div/div/div[2]/main/div/div/div/div/div/div[1]/div[1]/div[1]/div/div/div/div/div[1]/div[2]/div/div/div/form/div[1]/div/div/div/label/div[2]/div/input')\n",
    "#search_input.click()\n",
    "search_input.send_keys('#STEM EDUCATION')\n",
    "#search_input.submit()\n",
    "search_input.send_keys(Keys.ENTER)\n",
    "time.sleep(3)\n",
    "\n",
    "latest_btn = driver.find_element(By.XPATH,'//*[@id=\"react-root\"]/div/div/div[2]/main/div/div/div/div/div/div[1]/div[1]/div[2]/nav/div/div[2]/div/div[2]/a/div/div/span')\n",
    "latest_btn.click()\n",
    "\n",
    "# tweets = driver.find_element(By.XPATH,'//*[@id=\"react-root\"]/div/div/div[2]/main/div/div/div/div/div/div[3]/div/section/div/div')\n",
    "\n",
    "\n",
    "#empty list to add tweets to\n",
    "data_bucket = []\n",
    "#counter to keep track of how many tweets I've collected\n",
    "counter = 0\n",
    "\n",
    "# soup = BeautifulSoup(driver.page_source,'lxml')\n",
    "\n",
    "# tweets = soup.find_all('div', class_ = \"css-1dbjc4n\")\n",
    "# tweets\n",
    "while True:\n",
    "    last_height = driver.execute_script(\"return document.body.scrollHeight\")\n",
    "    tweets = driver.find_elements(By.XPATH,'//*[@id=\"react-root\"]/div/div/div[2]/main/div/div/div/div/div/div[3]/div/section/div/div')\n",
    "    for tweet in tweets:\n",
    "        try:\n",
    "            username = tweet.find_element_by_xpath('//*[@id=\"id__zt4eoann9md\"]/div[1]/div/a/div/div[1]/span/span').text\n",
    "            # text = tweet.text\n",
    "            # tweet_tuple = (username, text)\n",
    "            # data_bucket.append(tweet_tuple)\n",
    "            counter += 1\n",
    "            print(counter)\n",
    "        except (StaleElementReferenceException, NoSuchElementException) as Exception:\n",
    "            continue\n",
    "        \n",
    "    driver.execute_script(\"window.scrollTo(0, {})\".format(last_height+500))\n",
    "    \n",
    "    new_height = driver.execute_script(\"return document.body.scrollHeight\")\n",
    "    if last_height == new_height:\n",
    "        break\n",
    "# df = pd.DataFrame(data_bucket, columns=['username', 'tweet'])\n",
    "# df\n",
    "\n",
    "\n"
   ]
  },
  {
   "cell_type": "code",
   "execution_count": 20,
   "id": "302777b1-428a-4b1a-922e-dff7d9a1b4fd",
   "metadata": {},
   "outputs": [
    {
     "ename": "SyntaxError",
     "evalue": "invalid syntax (1296523708.py, line 2)",
     "output_type": "error",
     "traceback": [
      "\u001b[0;36m  Cell \u001b[0;32mIn[20], line 2\u001b[0;36m\u001b[0m\n\u001b[0;31m    username = tweet.find_element_by_xpath(/div/div[1]/div[1]/article[1]/div[1]/div[1]/div[2]/div[2]/div[1]/div[1]/div[1]/div[1]/div[1]/div[1]/div[1]/a[1]/div[1]/div[1]/span[1]/span[1]).text\u001b[0m\n\u001b[0m                                           ^\u001b[0m\n\u001b[0;31mSyntaxError\u001b[0m\u001b[0;31m:\u001b[0m invalid syntax\n"
     ]
    }
   ],
   "source": [
    "for tweet in tweets:\n",
    "    tweet.f\n",
    "    username = tweet.find_element_by_xpath(/div/div[1]/div[1]/article[1]/div[1]/div[1]/div[2]/div[2]/div[1]/div[1]/div[1]/div[1]/div[1]/div[1]/div[1]/a[1]/div[1]/div[1]/span[1]/span[1]).text\n",
    "    print(username)"
   ]
  },
  {
   "cell_type": "code",
   "execution_count": null,
   "id": "266133cd-32a7-44e1-95cd-e2ab4241959f",
   "metadata": {},
   "outputs": [],
   "source": []
  }
 ],
 "metadata": {
  "kernelspec": {
   "display_name": "Python 3 (ipykernel)",
   "language": "python",
   "name": "python3"
  },
  "language_info": {
   "codemirror_mode": {
    "name": "ipython",
    "version": 3
   },
   "file_extension": ".py",
   "mimetype": "text/x-python",
   "name": "python",
   "nbconvert_exporter": "python",
   "pygments_lexer": "ipython3",
   "version": "3.9.13"
  }
 },
 "nbformat": 4,
 "nbformat_minor": 5
}
