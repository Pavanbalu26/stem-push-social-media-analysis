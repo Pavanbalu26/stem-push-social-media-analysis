{
 "cells": [
  {
   "cell_type": "code",
   "execution_count": 2,
   "id": "f1a4821e",
   "metadata": {},
   "outputs": [
    {
     "name": "stderr",
     "output_type": "stream",
     "text": [
      "Error retrieving https://api.twitter.com/2/search/adaptive.json?include_profile_interstitial_type=1&include_blocking=1&include_blocked_by=1&include_followed_by=1&include_want_retweets=1&include_mute_edge=1&include_can_dm=1&include_can_media_tag=1&include_ext_has_nft_avatar=1&include_ext_is_blue_verified=1&include_ext_verified_type=1&skip_status=1&cards_platform=Web-12&include_cards=1&include_ext_alt_text=true&include_ext_limited_action_results=false&include_quote_count=true&include_reply_count=1&tweet_mode=extended&include_ext_collab_control=true&include_ext_views=true&include_entities=true&include_user_entities=true&include_ext_media_color=true&include_ext_media_availability=true&include_ext_sensitive_media_warning=true&include_ext_trusted_friends_metadata=true&send_error_codes=true&simple_quoted_tweet=true&q=STEM+PUSH&tweet_search_mode=live&count=20&query_source=spelling_expansion_revert_click&pc=1&spelling_corrections=1&include_ext_edit_control=true&ext=mediaStats%2ChighlightedLabel%2ChasNftAvatar%2CvoiceInfo%2Cenrichments%2CsuperFollowMetadata%2CunmentionInfo%2CeditControl%2Ccollab_control%2Cvibe: blocked (403)\n",
      "4 requests to https://api.twitter.com/2/search/adaptive.json?include_profile_interstitial_type=1&include_blocking=1&include_blocked_by=1&include_followed_by=1&include_want_retweets=1&include_mute_edge=1&include_can_dm=1&include_can_media_tag=1&include_ext_has_nft_avatar=1&include_ext_is_blue_verified=1&include_ext_verified_type=1&skip_status=1&cards_platform=Web-12&include_cards=1&include_ext_alt_text=true&include_ext_limited_action_results=false&include_quote_count=true&include_reply_count=1&tweet_mode=extended&include_ext_collab_control=true&include_ext_views=true&include_entities=true&include_user_entities=true&include_ext_media_color=true&include_ext_media_availability=true&include_ext_sensitive_media_warning=true&include_ext_trusted_friends_metadata=true&send_error_codes=true&simple_quoted_tweet=true&q=STEM+PUSH&tweet_search_mode=live&count=20&query_source=spelling_expansion_revert_click&pc=1&spelling_corrections=1&include_ext_edit_control=true&ext=mediaStats%2ChighlightedLabel%2ChasNftAvatar%2CvoiceInfo%2Cenrichments%2CsuperFollowMetadata%2CunmentionInfo%2CeditControl%2Ccollab_control%2Cvibe failed, giving up.\n",
      "Errors: blocked (403), blocked (403), blocked (403), blocked (403)\n"
     ]
    },
    {
     "ename": "ScraperException",
     "evalue": "4 requests to https://api.twitter.com/2/search/adaptive.json?include_profile_interstitial_type=1&include_blocking=1&include_blocked_by=1&include_followed_by=1&include_want_retweets=1&include_mute_edge=1&include_can_dm=1&include_can_media_tag=1&include_ext_has_nft_avatar=1&include_ext_is_blue_verified=1&include_ext_verified_type=1&skip_status=1&cards_platform=Web-12&include_cards=1&include_ext_alt_text=true&include_ext_limited_action_results=false&include_quote_count=true&include_reply_count=1&tweet_mode=extended&include_ext_collab_control=true&include_ext_views=true&include_entities=true&include_user_entities=true&include_ext_media_color=true&include_ext_media_availability=true&include_ext_sensitive_media_warning=true&include_ext_trusted_friends_metadata=true&send_error_codes=true&simple_quoted_tweet=true&q=STEM+PUSH&tweet_search_mode=live&count=20&query_source=spelling_expansion_revert_click&pc=1&spelling_corrections=1&include_ext_edit_control=true&ext=mediaStats%2ChighlightedLabel%2ChasNftAvatar%2CvoiceInfo%2Cenrichments%2CsuperFollowMetadata%2CunmentionInfo%2CeditControl%2Ccollab_control%2Cvibe failed, giving up.",
     "output_type": "error",
     "traceback": [
      "\u001b[0;31m---------------------------------------------------------------------------\u001b[0m",
      "\u001b[0;31mScraperException\u001b[0m                          Traceback (most recent call last)",
      "Cell \u001b[0;32mIn[2], line 7\u001b[0m\n\u001b[1;32m      5\u001b[0m tweets \u001b[38;5;241m=\u001b[39m []\n\u001b[1;32m      6\u001b[0m limit \u001b[38;5;241m=\u001b[39m \u001b[38;5;241m20\u001b[39m\n\u001b[0;32m----> 7\u001b[0m \u001b[38;5;28;01mfor\u001b[39;00m tweet \u001b[38;5;129;01min\u001b[39;00m TwitterSearchScraper(query)\u001b[38;5;241m.\u001b[39mget_items():\n\u001b[1;32m      8\u001b[0m     \u001b[38;5;28;01mif\u001b[39;00m \u001b[38;5;28mlen\u001b[39m(tweets) \u001b[38;5;241m==\u001b[39m limit:\n\u001b[1;32m      9\u001b[0m         \u001b[38;5;28;01mbreak\u001b[39;00m\n",
      "File \u001b[0;32m~/opt/anaconda3/lib/python3.9/site-packages/snscrape/modules/twitter.py:1661\u001b[0m, in \u001b[0;36mTwitterSearchScraper.get_items\u001b[0;34m(self)\u001b[0m\n\u001b[1;32m   1658\u001b[0m params \u001b[38;5;241m=\u001b[39m paginationParams\u001b[38;5;241m.\u001b[39mcopy()\n\u001b[1;32m   1659\u001b[0m \u001b[38;5;28;01mdel\u001b[39;00m params[\u001b[38;5;124m'\u001b[39m\u001b[38;5;124mcursor\u001b[39m\u001b[38;5;124m'\u001b[39m]\n\u001b[0;32m-> 1661\u001b[0m \u001b[38;5;28;01mfor\u001b[39;00m obj \u001b[38;5;129;01min\u001b[39;00m \u001b[38;5;28mself\u001b[39m\u001b[38;5;241m.\u001b[39m_iter_api_data(\u001b[38;5;124m'\u001b[39m\u001b[38;5;124mhttps://api.twitter.com/2/search/adaptive.json\u001b[39m\u001b[38;5;124m'\u001b[39m, _TwitterAPIType\u001b[38;5;241m.\u001b[39mV2, params, paginationParams, cursor \u001b[38;5;241m=\u001b[39m \u001b[38;5;28mself\u001b[39m\u001b[38;5;241m.\u001b[39m_cursor):\n\u001b[1;32m   1662\u001b[0m \t\u001b[38;5;28;01myield from\u001b[39;00m \u001b[38;5;28mself\u001b[39m\u001b[38;5;241m.\u001b[39m_v2_timeline_instructions_to_tweets_or_users(obj)\n",
      "File \u001b[0;32m~/opt/anaconda3/lib/python3.9/site-packages/snscrape/modules/twitter.py:761\u001b[0m, in \u001b[0;36m_TwitterAPIScraper._iter_api_data\u001b[0;34m(self, endpoint, apiType, params, paginationParams, cursor, direction)\u001b[0m\n\u001b[1;32m    759\u001b[0m \u001b[38;5;28;01mwhile\u001b[39;00m \u001b[38;5;28;01mTrue\u001b[39;00m:\n\u001b[1;32m    760\u001b[0m \t_logger\u001b[38;5;241m.\u001b[39minfo(\u001b[38;5;124mf\u001b[39m\u001b[38;5;124m'\u001b[39m\u001b[38;5;124mRetrieving scroll page \u001b[39m\u001b[38;5;132;01m{\u001b[39;00mcursor\u001b[38;5;132;01m}\u001b[39;00m\u001b[38;5;124m'\u001b[39m)\n\u001b[0;32m--> 761\u001b[0m \tobj \u001b[38;5;241m=\u001b[39m \u001b[38;5;28;43mself\u001b[39;49m\u001b[38;5;241;43m.\u001b[39;49m\u001b[43m_get_api_data\u001b[49m\u001b[43m(\u001b[49m\u001b[43mendpoint\u001b[49m\u001b[43m,\u001b[49m\u001b[43m \u001b[49m\u001b[43mapiType\u001b[49m\u001b[43m,\u001b[49m\u001b[43m \u001b[49m\u001b[43mreqParams\u001b[49m\u001b[43m)\u001b[49m\n\u001b[1;32m    762\u001b[0m \t\u001b[38;5;28;01myield\u001b[39;00m obj\n\u001b[1;32m    764\u001b[0m \t\u001b[38;5;66;03m# No data format test, just a hard and loud crash if anything's wrong :-)\u001b[39;00m\n",
      "File \u001b[0;32m~/opt/anaconda3/lib/python3.9/site-packages/snscrape/modules/twitter.py:727\u001b[0m, in \u001b[0;36m_TwitterAPIScraper._get_api_data\u001b[0;34m(self, endpoint, apiType, params)\u001b[0m\n\u001b[1;32m    725\u001b[0m \u001b[38;5;28;01mif\u001b[39;00m apiType \u001b[38;5;129;01mis\u001b[39;00m _TwitterAPIType\u001b[38;5;241m.\u001b[39mGRAPHQL:\n\u001b[1;32m    726\u001b[0m \tparams \u001b[38;5;241m=\u001b[39m urllib\u001b[38;5;241m.\u001b[39mparse\u001b[38;5;241m.\u001b[39murlencode({k: json\u001b[38;5;241m.\u001b[39mdumps(v, separators \u001b[38;5;241m=\u001b[39m (\u001b[38;5;124m'\u001b[39m\u001b[38;5;124m,\u001b[39m\u001b[38;5;124m'\u001b[39m, \u001b[38;5;124m'\u001b[39m\u001b[38;5;124m:\u001b[39m\u001b[38;5;124m'\u001b[39m)) \u001b[38;5;28;01mfor\u001b[39;00m k, v \u001b[38;5;129;01min\u001b[39;00m params\u001b[38;5;241m.\u001b[39mitems()}, quote_via \u001b[38;5;241m=\u001b[39m urllib\u001b[38;5;241m.\u001b[39mparse\u001b[38;5;241m.\u001b[39mquote)\n\u001b[0;32m--> 727\u001b[0m r \u001b[38;5;241m=\u001b[39m \u001b[38;5;28;43mself\u001b[39;49m\u001b[38;5;241;43m.\u001b[39;49m\u001b[43m_get\u001b[49m\u001b[43m(\u001b[49m\u001b[43mendpoint\u001b[49m\u001b[43m,\u001b[49m\u001b[43m \u001b[49m\u001b[43mparams\u001b[49m\u001b[43m \u001b[49m\u001b[38;5;241;43m=\u001b[39;49m\u001b[43m \u001b[49m\u001b[43mparams\u001b[49m\u001b[43m,\u001b[49m\u001b[43m \u001b[49m\u001b[43mheaders\u001b[49m\u001b[43m \u001b[49m\u001b[38;5;241;43m=\u001b[39;49m\u001b[43m \u001b[49m\u001b[38;5;28;43mself\u001b[39;49m\u001b[38;5;241;43m.\u001b[39;49m\u001b[43m_apiHeaders\u001b[49m\u001b[43m,\u001b[49m\u001b[43m \u001b[49m\u001b[43mresponseOkCallback\u001b[49m\u001b[43m \u001b[49m\u001b[38;5;241;43m=\u001b[39;49m\u001b[43m \u001b[49m\u001b[38;5;28;43mself\u001b[39;49m\u001b[38;5;241;43m.\u001b[39;49m\u001b[43m_check_api_response\u001b[49m\u001b[43m)\u001b[49m\n\u001b[1;32m    728\u001b[0m \u001b[38;5;28;01mtry\u001b[39;00m:\n\u001b[1;32m    729\u001b[0m \tobj \u001b[38;5;241m=\u001b[39m r\u001b[38;5;241m.\u001b[39mjson()\n",
      "File \u001b[0;32m~/opt/anaconda3/lib/python3.9/site-packages/snscrape/base.py:251\u001b[0m, in \u001b[0;36mScraper._get\u001b[0;34m(self, *args, **kwargs)\u001b[0m\n\u001b[1;32m    250\u001b[0m \u001b[38;5;28;01mdef\u001b[39;00m \u001b[38;5;21m_get\u001b[39m(\u001b[38;5;28mself\u001b[39m, \u001b[38;5;241m*\u001b[39margs, \u001b[38;5;241m*\u001b[39m\u001b[38;5;241m*\u001b[39mkwargs):\n\u001b[0;32m--> 251\u001b[0m \t\u001b[38;5;28;01mreturn\u001b[39;00m \u001b[38;5;28;43mself\u001b[39;49m\u001b[38;5;241;43m.\u001b[39;49m\u001b[43m_request\u001b[49m\u001b[43m(\u001b[49m\u001b[38;5;124;43m'\u001b[39;49m\u001b[38;5;124;43mGET\u001b[39;49m\u001b[38;5;124;43m'\u001b[39;49m\u001b[43m,\u001b[49m\u001b[43m \u001b[49m\u001b[38;5;241;43m*\u001b[39;49m\u001b[43margs\u001b[49m\u001b[43m,\u001b[49m\u001b[43m \u001b[49m\u001b[38;5;241;43m*\u001b[39;49m\u001b[38;5;241;43m*\u001b[39;49m\u001b[43mkwargs\u001b[49m\u001b[43m)\u001b[49m\n",
      "File \u001b[0;32m~/opt/anaconda3/lib/python3.9/site-packages/snscrape/base.py:247\u001b[0m, in \u001b[0;36mScraper._request\u001b[0;34m(self, method, url, params, data, headers, timeout, responseOkCallback, allowRedirects, proxies)\u001b[0m\n\u001b[1;32m    245\u001b[0m \t_logger\u001b[38;5;241m.\u001b[39mfatal(msg)\n\u001b[1;32m    246\u001b[0m \t_logger\u001b[38;5;241m.\u001b[39mfatal(\u001b[38;5;124mf\u001b[39m\u001b[38;5;124m'\u001b[39m\u001b[38;5;124mErrors: \u001b[39m\u001b[38;5;132;01m{\u001b[39;00m\u001b[38;5;124m\"\u001b[39m\u001b[38;5;124m, \u001b[39m\u001b[38;5;124m\"\u001b[39m\u001b[38;5;241m.\u001b[39mjoin(errors)\u001b[38;5;132;01m}\u001b[39;00m\u001b[38;5;124m'\u001b[39m)\n\u001b[0;32m--> 247\u001b[0m \t\u001b[38;5;28;01mraise\u001b[39;00m ScraperException(msg)\n\u001b[1;32m    248\u001b[0m \u001b[38;5;28;01mraise\u001b[39;00m \u001b[38;5;167;01mRuntimeError\u001b[39;00m(\u001b[38;5;124m'\u001b[39m\u001b[38;5;124mReached unreachable code\u001b[39m\u001b[38;5;124m'\u001b[39m)\n",
      "\u001b[0;31mScraperException\u001b[0m: 4 requests to https://api.twitter.com/2/search/adaptive.json?include_profile_interstitial_type=1&include_blocking=1&include_blocked_by=1&include_followed_by=1&include_want_retweets=1&include_mute_edge=1&include_can_dm=1&include_can_media_tag=1&include_ext_has_nft_avatar=1&include_ext_is_blue_verified=1&include_ext_verified_type=1&skip_status=1&cards_platform=Web-12&include_cards=1&include_ext_alt_text=true&include_ext_limited_action_results=false&include_quote_count=true&include_reply_count=1&tweet_mode=extended&include_ext_collab_control=true&include_ext_views=true&include_entities=true&include_user_entities=true&include_ext_media_color=true&include_ext_media_availability=true&include_ext_sensitive_media_warning=true&include_ext_trusted_friends_metadata=true&send_error_codes=true&simple_quoted_tweet=true&q=STEM+PUSH&tweet_search_mode=live&count=20&query_source=spelling_expansion_revert_click&pc=1&spelling_corrections=1&include_ext_edit_control=true&ext=mediaStats%2ChighlightedLabel%2ChasNftAvatar%2CvoiceInfo%2Cenrichments%2CsuperFollowMetadata%2CunmentionInfo%2CeditControl%2Ccollab_control%2Cvibe failed, giving up."
     ]
    }
   ],
   "source": [
    "from snscrape.modules.twitter import TwitterSearchScraper\n",
    "import pandas as pd\n",
    "\n",
    "query = \"STEM PUSH\"\n",
    "tweets = []\n",
    "limit = 20\n",
    "for tweet in TwitterSearchScraper(query).get_items():\n",
    "    if len(tweets) == limit:\n",
    "        break\n",
    "    else:\n",
    "            tweets.append([tweet.date,tweet.user.username,tweet.rawContent])\n",
    "df = pd.DataFrame(tweets,columns = ['Date','username','content'])\n"
   ]
  },
  {
   "cell_type": "code",
   "execution_count": 6,
   "id": "cd470f75",
   "metadata": {},
   "outputs": [
    {
     "data": {
      "text/plain": [
       "0     Let's try and see what ideology informs our #M...\n",
       "1     Scientists push to save nasa's veritas Venus m...\n",
       "2     Interesting I remember during the push to get ...\n",
       "3     My attitude is that if you push me towards som...\n",
       "4     shiv in the room with her brothers trying to c...\n",
       "                            ...                        \n",
       "95    @JellicleSparkle Let's push STEM education whi...\n",
       "96    @chuckwoolery Please Mr. President, push scien...\n",
       "97    With #3DPrinterOS, your can transform your #ma...\n",
       "98    @joncoopertweets Well that was a logical, cohe...\n",
       "99    @elonmusk @waitbutwhy And at what cost. If you...\n",
       "Name: content, Length: 100, dtype: object"
      ]
     },
     "execution_count": 6,
     "metadata": {},
     "output_type": "execute_result"
    }
   ],
   "source": [
    "df['content']"
   ]
  },
  {
   "cell_type": "code",
   "execution_count": 7,
   "id": "3a6a6a4a-fd4a-4e8a-84c6-11868a94eae4",
   "metadata": {},
   "outputs": [
    {
     "data": {
      "text/html": [
       "<div>\n",
       "<style scoped>\n",
       "    .dataframe tbody tr th:only-of-type {\n",
       "        vertical-align: middle;\n",
       "    }\n",
       "\n",
       "    .dataframe tbody tr th {\n",
       "        vertical-align: top;\n",
       "    }\n",
       "\n",
       "    .dataframe thead th {\n",
       "        text-align: right;\n",
       "    }\n",
       "</style>\n",
       "<table border=\"1\" class=\"dataframe\">\n",
       "  <thead>\n",
       "    <tr style=\"text-align: right;\">\n",
       "      <th></th>\n",
       "      <th>Date</th>\n",
       "      <th>username</th>\n",
       "      <th>content</th>\n",
       "    </tr>\n",
       "  </thead>\n",
       "  <tbody>\n",
       "    <tr>\n",
       "      <th>0</th>\n",
       "      <td>2023-04-17 19:54:51+00:00</td>\n",
       "      <td>MyStemEducation</td>\n",
       "      <td>Let's try and see what ideology informs our #MYSTEMEDUCATION process makes it quite good at pushing students to push their own boundaries. JOIN US TODAY!!! #science #edtech #programming</td>\n",
       "    </tr>\n",
       "    <tr>\n",
       "      <th>1</th>\n",
       "      <td>2023-04-17 17:45:10+00:00</td>\n",
       "      <td>BlackEngineer</td>\n",
       "      <td>Scientists push to save nasa's veritas Venus mission. https://t.co/4zaSnI41cm</td>\n",
       "    </tr>\n",
       "    <tr>\n",
       "      <th>2</th>\n",
       "      <td>2023-04-17 17:37:12+00:00</td>\n",
       "      <td>mysacredhonor</td>\n",
       "      <td>Interesting I remember during the push to get everyone to take the Covid shot they were telling Christians and other pro-life citizens that the FDA and pharmaceutical companies no longer used tissues or stem cells from abortions (aka Infanticide) for research. fake narrative?</td>\n",
       "    </tr>\n",
       "    <tr>\n",
       "      <th>3</th>\n",
       "      <td>2023-04-17 16:53:24+00:00</td>\n",
       "      <td>MathMeaning</td>\n",
       "      <td>My attitude is that if you push me towards something that you think is a weakness, then I will turn that perceived weakness into a strength. ― Michael Jordan #Math #STEM https://t.co/Z7TJk8FXj1</td>\n",
       "    </tr>\n",
       "    <tr>\n",
       "      <th>4</th>\n",
       "      <td>2023-04-17 16:02:15+00:00</td>\n",
       "      <td>amaniiahmed</td>\n",
       "      <td>shiv in the room with her brothers trying to convince her to let them be in charge and assuring her that she’ll still have power reminds me of being the only girl in a STEM class group project and the two other guys are trying to figure out how to do all the work and push me out</td>\n",
       "    </tr>\n",
       "    <tr>\n",
       "      <th>...</th>\n",
       "      <td>...</td>\n",
       "      <td>...</td>\n",
       "      <td>...</td>\n",
       "    </tr>\n",
       "    <tr>\n",
       "      <th>95</th>\n",
       "      <td>2023-04-10 16:53:57+00:00</td>\n",
       "      <td>girlsside</td>\n",
       "      <td>@JellicleSparkle Let's push STEM education while defunding humanities: what could go wrong?</td>\n",
       "    </tr>\n",
       "    <tr>\n",
       "      <th>96</th>\n",
       "      <td>2023-04-10 14:56:26+00:00</td>\n",
       "      <td>T_RavisT</td>\n",
       "      <td>@chuckwoolery Please Mr. President, push science for patients like me, I been waiting on STEM cell to grow my right arm a new nerve from brachial plexus injury. So much gov tape holding us back. My doc is on STEM CELL committee @TheJohnsHopkins. Dr.Allen Belzburg</td>\n",
       "    </tr>\n",
       "    <tr>\n",
       "      <th>97</th>\n",
       "      <td>2023-04-10 12:25:11+00:00</td>\n",
       "      <td>3DPrinterOS</td>\n",
       "      <td>With #3DPrinterOS, your can transform your #makerspace into a hub of creativity and #innovation. Empower students to push the limits of what's possible!  \\n\\n#edtech #additivemanufacturing #STEM #creativity #entrepreneurship https://t.co/mdxeLWlDvq</td>\n",
       "    </tr>\n",
       "    <tr>\n",
       "      <th>98</th>\n",
       "      <td>2023-04-10 02:03:19+00:00</td>\n",
       "      <td>PushFourLeft</td>\n",
       "      <td>@joncoopertweets Well that was a logical, coherent,\\nfact supported argument. There is a reason you are not in a STEM field Jon. https://t.co/ngLsoYgPV3</td>\n",
       "    </tr>\n",
       "    <tr>\n",
       "      <th>99</th>\n",
       "      <td>2023-04-10 00:40:39+00:00</td>\n",
       "      <td>HealingTortruer</td>\n",
       "      <td>@elonmusk @waitbutwhy And at what cost. If you have to cannibalize children, to pursue such a feat should it be considered? I suspect that much of the push behind abortions is for stem cell research in pursuit of immortality for the filthy.</td>\n",
       "    </tr>\n",
       "  </tbody>\n",
       "</table>\n",
       "<p>100 rows × 3 columns</p>\n",
       "</div>"
      ],
      "text/plain": [
       "                        Date         username  \\\n",
       "0  2023-04-17 19:54:51+00:00  MyStemEducation   \n",
       "1  2023-04-17 17:45:10+00:00    BlackEngineer   \n",
       "2  2023-04-17 17:37:12+00:00    mysacredhonor   \n",
       "3  2023-04-17 16:53:24+00:00      MathMeaning   \n",
       "4  2023-04-17 16:02:15+00:00      amaniiahmed   \n",
       "..                       ...              ...   \n",
       "95 2023-04-10 16:53:57+00:00        girlsside   \n",
       "96 2023-04-10 14:56:26+00:00         T_RavisT   \n",
       "97 2023-04-10 12:25:11+00:00      3DPrinterOS   \n",
       "98 2023-04-10 02:03:19+00:00     PushFourLeft   \n",
       "99 2023-04-10 00:40:39+00:00  HealingTortruer   \n",
       "\n",
       "                                                                                                                                                                                                                                                                                    content  \n",
       "0                                                                                                 Let's try and see what ideology informs our #MYSTEMEDUCATION process makes it quite good at pushing students to push their own boundaries. JOIN US TODAY!!! #science #edtech #programming  \n",
       "1                                                                                                                                                                                                             Scientists push to save nasa's veritas Venus mission. https://t.co/4zaSnI41cm  \n",
       "2      Interesting I remember during the push to get everyone to take the Covid shot they were telling Christians and other pro-life citizens that the FDA and pharmaceutical companies no longer used tissues or stem cells from abortions (aka Infanticide) for research. fake narrative?  \n",
       "3                                                                                         My attitude is that if you push me towards something that you think is a weakness, then I will turn that perceived weakness into a strength. ― Michael Jordan #Math #STEM https://t.co/Z7TJk8FXj1  \n",
       "4   shiv in the room with her brothers trying to convince her to let them be in charge and assuring her that she’ll still have power reminds me of being the only girl in a STEM class group project and the two other guys are trying to figure out how to do all the work and push me out  \n",
       "..                                                                                                                                                                                                                                                                                      ...  \n",
       "95                                                                                                                                                                                              @JellicleSparkle Let's push STEM education while defunding humanities: what could go wrong?  \n",
       "96                  @chuckwoolery Please Mr. President, push science for patients like me, I been waiting on STEM cell to grow my right arm a new nerve from brachial plexus injury. So much gov tape holding us back. My doc is on STEM CELL committee @TheJohnsHopkins. Dr.Allen Belzburg  \n",
       "97                                 With #3DPrinterOS, your can transform your #makerspace into a hub of creativity and #innovation. Empower students to push the limits of what's possible!  \\n\\n#edtech #additivemanufacturing #STEM #creativity #entrepreneurship https://t.co/mdxeLWlDvq  \n",
       "98                                                                                                                                 @joncoopertweets Well that was a logical, coherent,\\nfact supported argument. There is a reason you are not in a STEM field Jon. https://t.co/ngLsoYgPV3  \n",
       "99                                         @elonmusk @waitbutwhy And at what cost. If you have to cannibalize children, to pursue such a feat should it be considered? I suspect that much of the push behind abortions is for stem cell research in pursuit of immortality for the filthy.  \n",
       "\n",
       "[100 rows x 3 columns]"
      ]
     },
     "metadata": {},
     "output_type": "display_data"
    }
   ],
   "source": [
    "with pd.option_context('display.max_colwidth', None):\n",
    "  display(df)"
   ]
  },
  {
   "cell_type": "code",
   "execution_count": null,
   "id": "6a7f929f-8e5d-42c4-8632-5118f4ecdf3e",
   "metadata": {},
   "outputs": [],
   "source": []
  }
 ],
 "metadata": {
  "kernelspec": {
   "display_name": "Python 3 (ipykernel)",
   "language": "python",
   "name": "python3"
  },
  "language_info": {
   "codemirror_mode": {
    "name": "ipython",
    "version": 3
   },
   "file_extension": ".py",
   "mimetype": "text/x-python",
   "name": "python",
   "nbconvert_exporter": "python",
   "pygments_lexer": "ipython3",
   "version": "3.9.13"
  }
 },
 "nbformat": 4,
 "nbformat_minor": 5
}
