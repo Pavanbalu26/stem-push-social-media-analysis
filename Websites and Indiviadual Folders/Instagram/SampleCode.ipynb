{
 "cells": [
  {
   "cell_type": "code",
   "execution_count": 3,
   "id": "fac12c73",
   "metadata": {},
   "outputs": [
    {
     "name": "stdout",
     "output_type": "stream",
     "text": [
      "<script nonce=\"\" type=\"application/ld+json\">{\"articleBody\":\"Bear Trust creates and distributes free conservation lesson plans for public schools in North America. Our Student Scientist Series teaches habitat recovery, wildlife management, and conservation theory for grades K-12. It encourages students to deepen their understanding of human-animal coexistence and appreciate environmental sustainability. \n",
      "\n",
      "Help us to educate youth about conservation and the great outdoors: https:\\/\\/www.gofundme.com\\/f\\/promote-and-update-lesson-plans\n",
      "\n",
      "Photo by Tyler @onthefly_ty \n",
      "\n",
      "#wildbears #habitat #conservation #stemeducation #STEM #wildlife #widerness #nature #outdoorlife #wild #animallife #animalkingdom #ursus #animalspecies #conservationeducation #conservationleaders #wildlifebiologist #nextgeneration #youngpeople #youthwilderness #education #outdoors\",\"author\":{\"@type\":\"Person\",\"identifier\":{\"@type\":\"http:\\/\\/schema.org\\/PropertyValue\",\"propertyID\":\"Username\",\"value\":\"beartrustinternational\"},\"image\":\"https:\\/\\/scontent.cdninstagram.com\\/v\\/t51.2885-19\\/29740476_219504195472341_2622383623642284032_n.jpg?stp=dst-jpg_s100x100&_nc_cat=110&ccb=1-7&_nc_sid=8ae9d6&_nc_ohc=aSgtP38Jm1AAX_AwPZN&_nc_ht=scontent.cdninstagram.com&oh=00_AfB6DYopyva39jJBK93f7A-DfHxqPl0OPYeW9YV932hzcg&oe=649F774E\",\"name\":\"Bear Trust International\",\"alternateName\":\"@beartrustinternational\",\"url\":\"https:\\/\\/www.instagram.com\\/beartrustinternational\"},\"comment\":null,\"commentCount\":\"0\",\"contentLocation\":null,\"@context\":\"https:\\/\\/schema.org\",\"dateCreated\":\"2023-05-31T10:02:53-07:00\",\"dateModified\":\"2023-05-31T11:51:23-07:00\",\"headline\":\"Bear Trust creates and distributes free conservation lesson plans for public schools in North America. Our Student Scientist Series teaches habitat recovery, wildlife management, and conservation theory for grades K-12. It encourages students to deepen their understanding of human-animal coexistence and appreciate environmental sustainability. \n",
      "\n",
      "Help us to educate youth about conservation and the great outdoors: https:\\/\\/www.gofundme.com\\/f\\/promote-and-update-lesson-plans\n",
      "\n",
      "Photo by Tyler @onthefly_ty \n",
      "\n",
      "#wildbears #habitat #conservation #stemeducation #STEM #wildlife #widerness #nature #outdoorlife #wild #animallife #animalkingdom #ursus #animalspecies #conservationeducation #conservationleaders #wildlifebiologist #nextgeneration #youngpeople #youthwilderness #education #outdoors\",\"identifier\":{\"@type\":\"http:\\/\\/schema.org\\/PropertyValue\",\"propertyID\":\"Post Shortcode\",\"value\":\"Cs6koiVBLVC\"},\"image\":[{\"@type\":\"https:\\/\\/schema.org\\/ImageObject\",\"caption\":\"Bear Trust creates and distributes free conservation lesson plans for public schools in North America. Our Student Scientist Series teaches habitat recovery, wildlife management, and conservation theory for grades K-12. It encourages students to deepen their understanding of human-animal coexistence and appreciate environmental sustainability. \n",
      "\n",
      "Help us to educate youth about conservation and the great outdoors: https:\\/\\/www.gofundme.com\\/f\\/promote-and-update-lesson-plans\n",
      "\n",
      "Photo by Tyler @onthefly_ty \n",
      "\n",
      "#wildbears #habitat #conservation #stemeducation #STEM #wildlife #widerness #nature #outdoorlife #wild #animallife #animalkingdom #ursus #animalspecies #conservationeducation #conservationleaders #wildlifebiologist #nextgeneration #youngpeople #youthwilderness #education #outdoors\",\"representativeOfPage\":\"True\",\"height\":\"1349\",\"width\":\"1080\",\"url\":\"https:\\/\\/scontent.cdninstagram.com\\/v\\/t39.30808-6\\/350781212_290045146684747_8235298554409049061_n.jpg?stp=dst-jpg_s640x640&_nc_cat=106&ccb=1-7&_nc_sid=8ae9d6&_nc_ohc=ty43Si16tOIAX9gth6a&_nc_ht=scontent.cdninstagram.com&oh=00_AfBadg7orxyUb8Ofn53liRoHi6AIeRjifhbfsKIDLEyAlA&oe=647C851C\"}],\"interactionStatistic\":[{\"@type\":\"InteractionCounter\",\"interactionType\":\"https:\\/\\/schema.org\\/CommentAction\",\"userInteractionCount\":0},{\"@type\":\"InteractionCounter\",\"interactionType\":\"http:\\/\\/schema.org\\/LikeAction\",\"userInteractionCount\":21}],\"mainEntityOfPage\":{\"@type\":\"ItemPage\",\"@id\":\"https:\\/\\/www.instagram.com\\/p\\/Cs6koiVBLVC\\/\"},\"@type\":\"SocialMediaPosting\",\"video\":[]}</script>\n"
     ]
    }
   ],
   "source": [
    "from bs4 import BeautifulSoup\n",
    "import re\n",
    "\n",
    "# Assuming you have the HTML content stored in the 'html_content' variable\n",
    "def extract_likes_and_comments(text):\n",
    "    pattern_likes = r'(\\d+) likes'\n",
    "    pattern_comments = r'(\\d+) comments'\n",
    "\n",
    "    match_likes = re.search(pattern_likes, text)\n",
    "    likes = match_likes.group(1) if match_likes else None\n",
    "\n",
    "    match_comments = re.search(pattern_comments, text)\n",
    "    comments = match_comments.group(1) if match_comments else None\n",
    "\n",
    "    return [likes, comments]\n",
    "\n",
    "# Create a BeautifulSoup object with the HTML content\n",
    "soup = BeautifulSoup(html_content, 'html.parser')\n",
    "\n",
    "# Find the meta tag with the specified attributes\n",
    "meta_tag_for_name = soup.find('meta', attrs={'name': 'twitter:title'})\n",
    "meta_tag_for_desc = soup.find('meta', attrs ={'property' : 'og:title'})\n",
    "meta_tag_for_additional = soup.find('meta', attrs= {'name': 'description'})\n",
    "json = soup.find('script',attrs = {'type': 'application/ld+json'})\n",
    "print(json)\n",
    "# Extract the content attribute value\n",
    "username  = meta_tag_for_name.get('content')\n",
    "desc = meta_tag_for_desc.get('content')\n",
    "likes,comments = extract_likes_and_comments(meta_tag_for_additional.get('content'))\n",
    "\n",
    "\n",
    "\n",
    "# # Print the extracted content\n",
    "# print('username-->', username)\n",
    "# print('description-->',desc)\n",
    "# print('likes-->',likes,'comments-->',comments)"
   ]
  },
  {
   "cell_type": "code",
   "execution_count": 6,
   "id": "72352e14",
   "metadata": {},
   "outputs": [
    {
     "name": "stdout",
     "output_type": "stream",
     "text": [
      "Likes: 24\n",
      "Comments: 0\n"
     ]
    }
   ],
   "source": [
    "import re\n",
    "\n",
    "# Assuming you have the string stored in the 'text' variable\n",
    "\n",
    "\n",
    "# Use regular expressions to extract the number of likes and comments\n",
    "text = \"24 likes, 0 comments - Bear Trust International (@beartrustinternational) on Instagram: &quot;Bear Trust creates and distributes free conservation lesson plans for public schools in North Ame...&quot;\"\n",
    "\n",
    "pattern_likes = r'(\\d+) likes'\n",
    "pattern_comments = r'(\\d+) comments'\n",
    "\n",
    "# Find the number of likes\n",
    "match_likes = re.search(pattern_likes, text)\n",
    "if match_likes:\n",
    "    likes = match_likes.group(1)\n",
    "\n",
    "# Find the number of comments\n",
    "match_comments = re.search(pattern_comments, text)\n",
    "if match_comments:\n",
    "    comments = match_comments.group(1)\n",
    "\n",
    "# Print the extracted number of likes and comments\n",
    "print(\"Likes:\", likes)\n",
    "print(\"Comments:\", comments)\n"
   ]
  },
  {
   "cell_type": "code",
   "execution_count": null,
   "id": "cd83aade",
   "metadata": {},
   "outputs": [],
   "source": []
  }
 ],
 "metadata": {
  "kernelspec": {
   "display_name": "Python 3 (ipykernel)",
   "language": "python",
   "name": "python3"
  },
  "language_info": {
   "codemirror_mode": {
    "name": "ipython",
    "version": 3
   },
   "file_extension": ".py",
   "mimetype": "text/x-python",
   "name": "python",
   "nbconvert_exporter": "python",
   "pygments_lexer": "ipython3",
   "version": "3.9.6"
  }
 },
 "nbformat": 4,
 "nbformat_minor": 5
}
