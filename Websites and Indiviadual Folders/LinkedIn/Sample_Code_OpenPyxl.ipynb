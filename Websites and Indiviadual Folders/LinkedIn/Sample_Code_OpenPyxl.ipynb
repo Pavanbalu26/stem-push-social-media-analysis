{
 "cells": [
  {
   "cell_type": "code",
   "execution_count": 32,
   "id": "324feeff",
   "metadata": {},
   "outputs": [
    {
     "name": "stdout",
     "output_type": "stream",
     "text": [
      "Name\n",
      "math \n",
      "science\n",
      "english\n",
      "Test\n",
      "1\n",
      "2\n",
      "3\n",
      "Bill\n",
      "5\n",
      "6\n",
      "7\n",
      "Tim\n",
      "9\n",
      "10\n",
      "11\n",
      "Sally\n",
      "13\n",
      "14\n",
      "15\n",
      "Jane\n",
      "17\n",
      "18\n",
      "19\n"
     ]
    }
   ],
   "source": [
    "from openpyxl import Workbook,load_workbook\n",
    "from openpyxl.utils import get_column_letter\n",
    "from openpyxl.styles import Font\n",
    "\n",
    "wb = load_workbook(\"Grades.xlsx\")\n",
    "\n",
    "ws = wb.active\n",
    "\n",
    "for row in range(1,7):\n",
    "    for col in range(1,5):\n",
    "        char = get_column_letter(col)\n",
    "        print(ws[char+str(row)].value)\n",
    "\n",
    "for col in range(1,5):\n",
    "    ws[get_column_letter()].fon\n",
    "        \n",
    "\n",
    "# wb.save(\"Grades.xlsx\")"
   ]
  },
  {
   "cell_type": "code",
   "execution_count": 7,
   "id": "84eb8db3",
   "metadata": {},
   "outputs": [],
   "source": [
    "# from openpyxl import Workbook,load_workbook\n",
    "# from openpyxl.utils import get_column_letter\n",
    "# from openpyxl.styles import Font\n",
    "\n",
    "# name = \"balu.xlsx\"\n",
    "# wb = Workbook(name)\n",
    "\n",
    "# ws = wb.active\n",
    "# usernames = ['Pavan','Balu']\n",
    "# usernames_str = \"\\n\".join(name for name in usernames)\n",
    "\n",
    "# ws['A1'].value = usernames_str\n",
    "# # for col in range(1,5):\n",
    "# #     ws[get_column_letter()].fon\n",
    "        \n",
    "\n",
    "# wb.save(name)\n",
    "\n",
    "from openpyxl import Workbook\n",
    "from openpyxl.utils import get_column_letter\n",
    "from openpyxl.styles import Font\n",
    "\n",
    "name = \"balu.xlsx\"\n",
    "wb = Workbook()\n",
    "ws = wb.active\n",
    "\n",
    "usernames = ['Pavan', 'Balu']\n",
    "usernames_str = \"\\n\".join(name for name in usernames)\n",
    "\n",
    "ws['A1'].value = usernames_str\n",
    "\n",
    "# Applying font to cell A1\n",
    "font = Font(bold=True)\n",
    "ws['A1'].font = font\n",
    "\n",
    "# Saving the workbook\n",
    "wb.save(name)\n"
   ]
  },
  {
   "cell_type": "code",
   "execution_count": null,
   "id": "9d1d8a0b",
   "metadata": {},
   "outputs": [],
   "source": [
    "from openpyxl import Workbook\n",
    "\n",
    "name "
   ]
  },
  {
   "cell_type": "code",
   "execution_count": 3,
   "id": "b3dfa7f0",
   "metadata": {},
   "outputs": [
    {
     "name": "stdout",
     "output_type": "stream",
     "text": [
      "Excel sheet '2023-05-18_01-06-54.xlsx' has been created.\n"
     ]
    }
   ],
   "source": [
    "import datetime\n",
    "from openpyxl import Workbook\n",
    "\n",
    "current_datetime = datetime.datetime.now()\n",
    "formatted_datetime = current_datetime.strftime(\"%Y-%m-%d_%H-%M-%S\")\n",
    "\n",
    "# Create a new workbook\n",
    "workbook = Workbook()\n",
    "\n",
    "# Get the active sheet\n",
    "sheet = workbook.active\n",
    "\n",
    "# Set the sheet name as the formatted datetime\n",
    "sheet.title = formatted_datetime\n",
    "\n",
    "# Save the workbook with the formatted datetime as the filename\n",
    "filename = f\"{formatted_datetime}.xlsx\"\n",
    "workbook.save(filename)\n",
    "\n",
    "print(f\"Excel sheet '{filename}' has been created.\")\n"
   ]
  },
  {
   "cell_type": "code",
   "execution_count": 8,
   "id": "6d4d84ae",
   "metadata": {},
   "outputs": [],
   "source": [
    "from openpyxl import Workbook\n",
    "from openpyxl.styles import Alignment\n",
    "\n",
    "name = \"balu.xlsx\"\n",
    "wb = Workbook()\n",
    "ws = wb.active\n",
    "\n",
    "usernames = ['Pavan', 'Balu']\n",
    "usernames_str = \"\\n\".join(usernames)\n",
    "\n",
    "ws['A1'].value = usernames_str\n",
    "\n",
    "# Applying alignment to cell A1\n",
    "alignment = Alignment(wrap_text=True)\n",
    "ws['A1'].alignment = alignment\n",
    "\n",
    "# Saving the workbook\n",
    "wb.save(name)\n"
   ]
  },
  {
   "cell_type": "code",
   "execution_count": null,
   "id": "7623442f",
   "metadata": {},
   "outputs": [],
   "source": []
  }
 ],
 "metadata": {
  "kernelspec": {
   "display_name": "Python 3 (ipykernel)",
   "language": "python",
   "name": "python3"
  },
  "language_info": {
   "codemirror_mode": {
    "name": "ipython",
    "version": 3
   },
   "file_extension": ".py",
   "mimetype": "text/x-python",
   "name": "python",
   "nbconvert_exporter": "python",
   "pygments_lexer": "ipython3",
   "version": "3.9.13"
  }
 },
 "nbformat": 4,
 "nbformat_minor": 5
}
