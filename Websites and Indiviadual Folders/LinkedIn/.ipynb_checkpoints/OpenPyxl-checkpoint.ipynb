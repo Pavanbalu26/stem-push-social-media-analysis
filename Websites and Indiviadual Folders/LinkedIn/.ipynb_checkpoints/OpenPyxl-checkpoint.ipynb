{
 "cells": [
  {
   "cell_type": "code",
   "execution_count": 32,
   "id": "324feeff",
   "metadata": {},
   "outputs": [
    {
     "name": "stdout",
     "output_type": "stream",
     "text": [
      "Name\n",
      "math \n",
      "science\n",
      "english\n",
      "Test\n",
      "1\n",
      "2\n",
      "3\n",
      "Bill\n",
      "5\n",
      "6\n",
      "7\n",
      "Tim\n",
      "9\n",
      "10\n",
      "11\n",
      "Sally\n",
      "13\n",
      "14\n",
      "15\n",
      "Jane\n",
      "17\n",
      "18\n",
      "19\n"
     ]
    }
   ],
   "source": [
    "from openpyxl import Workbook,load_workbook\n",
    "from openpyxl.utils import get_column_letter\n",
    "from openpyxl.styles import Font\n",
    "\n",
    "wb = load_workbook(\"Grades.xlsx\")\n",
    "\n",
    "ws = wb.active\n",
    "\n",
    "for row in range(1,7):\n",
    "    for col in range(1,5):\n",
    "        char = get_column_letter(col)\n",
    "        print(ws[char+str(row)].value)\n",
    "\n",
    "for col in range(1,5):\n",
    "    ws[get_column_letter()].fon\n",
    "        \n",
    "\n",
    "# wb.save(\"Grades.xlsx\")"
   ]
  },
  {
   "cell_type": "code",
   "execution_count": 2,
   "id": "84eb8db3",
   "metadata": {},
   "outputs": [],
   "source": [
    "from openpyxl import Workbook,load_workbook\n",
    "from openpyxl.utils import get_column_letter\n",
    "from openpyxl.styles import Font\n",
    "\n",
    "name = \"balu.xlsx\"\n",
    "wb = Workbook(name)\n",
    "\n",
    "ws = wb.active\n",
    "\n",
    "for row in range(1,7):\n",
    "    for col in range(1,5):\n",
    "        char = get_column_letter(col)\n",
    "\n",
    "# for col in range(1,5):\n",
    "#     ws[get_column_letter()].fon\n",
    "        \n",
    "\n",
    "wb.save(name)"
   ]
  },
  {
   "cell_type": "code",
   "execution_count": null,
   "id": "9d1d8a0b",
   "metadata": {},
   "outputs": [],
   "source": []
  }
 ],
 "metadata": {
  "kernelspec": {
   "display_name": "Python 3 (ipykernel)",
   "language": "python",
   "name": "python3"
  },
  "language_info": {
   "codemirror_mode": {
    "name": "ipython",
    "version": 3
   },
   "file_extension": ".py",
   "mimetype": "text/x-python",
   "name": "python",
   "nbconvert_exporter": "python",
   "pygments_lexer": "ipython3",
   "version": "3.9.13"
  }
 },
 "nbformat": 4,
 "nbformat_minor": 5
}
